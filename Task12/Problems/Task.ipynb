{
 "cells": [
  {
   "cell_type": "markdown",
   "metadata": {},
   "source": [
    "## Numpy First Task \n"
   ]
  },
  {
   "cell_type": "code",
   "execution_count": 6,
   "metadata": {},
   "outputs": [],
   "source": [
    "import numpy as np\n",
    "import random"
   ]
  },
  {
   "cell_type": "markdown",
   "metadata": {},
   "source": [
    "### problem 1 \n",
    "- Create a 3x3 array that contains a diagonal of nines.\n"
   ]
  },
  {
   "cell_type": "code",
   "execution_count": 5,
   "metadata": {},
   "outputs": [
    {
     "name": "stdout",
     "output_type": "stream",
     "text": [
      "[[9. 0. 0.]\n",
      " [0. 9. 0.]\n",
      " [0. 0. 9.]]\n"
     ]
    }
   ],
   "source": [
    "arr = np.zeros((3,3))\n",
    "np.fill_diagonal(arr , 9)\n",
    "print (arr)"
   ]
  },
  {
   "cell_type": "markdown",
   "metadata": {},
   "source": [
    "### problem 2 \n",
    "- Create a 4 x 4 ndarray that only contains consecutive even numbers from 2 to 32 (inclusive) and use Boolean indexing to pick out the values that are within 1/2 standard deviations of the mean.\n"
   ]
  },
  {
   "cell_type": "code",
   "execution_count": 28,
   "metadata": {},
   "outputs": [
    {
     "name": "stdout",
     "output_type": "stream",
     "text": [
      " Array:\n",
      " [[18 22 26 24]\n",
      " [ 4 32 28 20]\n",
      " [14 10 30  6]\n",
      " [16  2 12  8]]\n",
      "\n",
      " Mean = 17.00\n",
      " Standard Deviation = 9.22\n",
      " Lower Bound = 12.39\n",
      " Upper Bound = 21.61\n",
      "\n",
      "\n",
      "Values within ±0.5 std of mean: [18 20 14 16]\n",
      "\n",
      "Checking each value:\n",
      "18       Close to the mean\n",
      "22       Far from the mean\n",
      "26       Far from the mean\n",
      "24       Far from the mean\n",
      " 4       Far from the mean\n",
      "32       Far from the mean\n",
      "28       Far from the mean\n",
      "20       Close to the mean\n",
      "14       Close to the mean\n",
      "10       Far from the mean\n",
      "30       Far from the mean\n",
      " 6       Far from the mean\n",
      "16       Close to the mean\n",
      " 2       Far from the mean\n",
      "12       Far from the mean\n",
      " 8       Far from the mean\n"
     ]
    }
   ],
   "source": [
    "\n",
    "evenNumbers = list(range(2,33,2))\n",
    "random.shuffle(evenNumbers)\n",
    "\n",
    "arr = np.array(evenNumbers).reshape(4,4)\n",
    "\n",
    "\n",
    "Mean = arr.mean()\n",
    "Std = arr.std()\n",
    "\n",
    "lower = Mean - 0.5*Std\n",
    "upper = Mean + 0.5*Std\n",
    " # Boolean indexing to pick values within range\n",
    "values = arr [(arr >= lower)&(arr<= upper)]\n",
    "\n",
    "print(\" Array:\\n\", arr)\n",
    "print(f\"\\n Mean = {Mean:.2f}\")\n",
    "print(f\" Standard Deviation = {Std:.2f}\")\n",
    "print(f\" Lower Bound = {lower:.2f}\")\n",
    "print(f\" Upper Bound = {upper:.2f}\\n\")\n",
    "print(f\"\\nValues within ±0.5 std of mean: {values}\\n\" )\n",
    "\n",
    "#  Check each element and print whether it is close to the mean\n",
    "print(\"Checking each value:\")\n",
    "for i in range(4):\n",
    "    for j in range(4):\n",
    "        value = arr[i][j]\n",
    "        if lower <= value <= upper:\n",
    "            print(f\"{value :>2}       Close to the mean\")\n",
    "        else:\n",
    "            print(f\"{ value:>2}       Far from the mean\")\n"
   ]
  },
  {
   "cell_type": "markdown",
   "metadata": {},
   "source": [
    "### problem 3 \n",
    "- Create a 9x9 array that contains only zero of type int.\n"
   ]
  },
  {
   "cell_type": "code",
   "execution_count": 30,
   "metadata": {},
   "outputs": [
    {
     "name": "stdout",
     "output_type": "stream",
     "text": [
      "[[0 0 0 0 0 0 0 0 0]\n",
      " [0 0 0 0 0 0 0 0 0]\n",
      " [0 0 0 0 0 0 0 0 0]\n",
      " [0 0 0 0 0 0 0 0 0]\n",
      " [0 0 0 0 0 0 0 0 0]\n",
      " [0 0 0 0 0 0 0 0 0]\n",
      " [0 0 0 0 0 0 0 0 0]\n",
      " [0 0 0 0 0 0 0 0 0]\n",
      " [0 0 0 0 0 0 0 0 0]]\n"
     ]
    }
   ],
   "source": [
    "arr = np.zeros((9,9) , dtype=int)\n",
    "print (arr)"
   ]
  },
  {
   "cell_type": "markdown",
   "metadata": {},
   "source": [
    "### problem 4\n",
    "- Ask the user for a number n. Then, use broadcasting to create a n x n ndarray that has its first column full of ones, its second column full of twos, its third column full of threes, etc…\n",
    "\n"
   ]
  },
  {
   "cell_type": "code",
   "execution_count": null,
   "metadata": {},
   "outputs": [],
   "source": [
    "\n",
    "# create a 2D array of size n * n \n",
    "while True:\n",
    "    try:\n",
    "        n = int(input(\"Enter a number for the size of the array: \"))\n",
    "        break  # Exit the loop if input is valid\n",
    "    except ValueError:\n",
    "        print(\"Invalid input! Please enter a valid integer.\")\n",
    "\n",
    " # first solution \n",
    "arr = np.arange(1, n + 1)   # [1, 2, ..., n]\n",
    "arr = np.tile(arr, (n, 1))  # Repeat it n times vertically\n",
    "\n",
    "print(\" Array 1 \" , arr)\n",
    "print (\"#\" * 30)\n",
    "\n",
    "# second solution \n",
    "arr = np.zeros((n, n), dtype=int)\n",
    "\n",
    "for i in range(n):\n",
    "    arr[:, i] = i + 1  \n",
    "print(\"Array 2 \" ,  arr)\n",
    "\n"
   ]
  },
  {
   "cell_type": "markdown",
   "metadata": {},
   "source": [
    "### problem 5 \n",
    "\n",
    "- In this problem, we’re given a row of cards where each card has a unique number. There are two players: Sereja and Dima. They take turns choosing cards, and Sereja always starts first.\n",
    "\n",
    "- On their turn, each player picks the card with the larger number, but they can only choose from the leftmost or rightmost card. After choosing, the number on the card is added to their score.\n",
    "\n",
    "- The game continues until there are no more cards left. In the end, we want to calculate the total score for each player."
   ]
  },
  {
   "cell_type": "code",
   "execution_count": null,
   "metadata": {},
   "outputs": [],
   "source": [
    "\n",
    "\n",
    "n = int(input())\n",
    "arr = np.array(list(map(int , input().split())))\n",
    "\n",
    "left , right = 0 , n-1\n",
    "sereja , dima = 0, 0 \n",
    "\n",
    "\n",
    "Sereja = True\n",
    "\n",
    "while left <= right:\n",
    "    if arr[left] > arr[right]:\n",
    "        chosen = arr[left]\n",
    "        left += 1\n",
    "    else:\n",
    "        chosen = arr[right]\n",
    "        right -= 1\n",
    "\n",
    "    if Sereja:\n",
    "        sereja += chosen\n",
    "    else:\n",
    "        dima += chosen\n",
    "\n",
    "    Sereja = not Sereja\n",
    "\n",
    "print(sereja, dima) \n"
   ]
  },
  {
   "cell_type": "markdown",
   "metadata": {},
   "source": [
    "### problem 6 \n",
    "I have  given a photo represented as an `n x m` matrix where each cell contains a character representing the color of a pixel.\n",
    "\n",
    "The pixel can be one of the following characters:\n",
    "- `'W'` – White  \n",
    "- `'G'` – Grey  \n",
    "- `'B'` – Black  \n",
    "- `'C'` – Cyan  \n",
    "- `'M'` – Magenta  \n",
    "- `'Y'` – Yellow  \n",
    "\n",
    "- task is to determine whether the photo is **black-and-white** or **colored**.\n",
    "\n",
    "####  Criteria\n",
    "- If **all** pixels are from the set `{W, G, B}`, the photo is considered **black-and-white**.\n",
    "- If **any** pixel is from the set `{C, M, Y}`, then the photo is considered **colored**.\n",
    "\n",
    "\n"
   ]
  },
  {
   "cell_type": "code",
   "execution_count": null,
   "metadata": {},
   "outputs": [],
   "source": [
    "\n",
    "\n",
    "n, m = map(int, input().split())\n",
    "\n",
    "pixels = []\n",
    "for _ in range(n):\n",
    "    row = input().split()\n",
    "    pixels.append(row)\n",
    "\n",
    "arr = np.array(pixels)\n",
    "\n",
    "colored_pixels = {'C', 'M', 'Y'}\n",
    "\n",
    "# Check if any pixel in the matrix is one of the colored pixels\n",
    "if np.isin(arr, list(colored_pixels)).any():\n",
    "    print(\"#Color\")\n",
    "else:\n",
    "    print(\"#Black&White\")\n"
   ]
  }
 ],
 "metadata": {
  "kernelspec": {
   "display_name": "Python 3",
   "language": "python",
   "name": "python3"
  },
  "language_info": {
   "codemirror_mode": {
    "name": "ipython",
    "version": 3
   },
   "file_extension": ".py",
   "mimetype": "text/x-python",
   "name": "python",
   "nbconvert_exporter": "python",
   "pygments_lexer": "ipython3",
   "version": "3.13.3"
  }
 },
 "nbformat": 4,
 "nbformat_minor": 2
}
